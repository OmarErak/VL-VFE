{
 "cells": [
  {
   "cell_type": "code",
   "execution_count": null,
   "metadata": {},
   "outputs": [
    {
     "ename": "",
     "evalue": "",
     "output_type": "error",
     "traceback": [
      "\u001b[1;31mFailed to start the Kernel. \n",
      "\u001b[1;31mUnicodeDecodeError: 'charmap' codec can't decode byte 0x81 in position 1400: character maps to <undefined>. \n",
      "\u001b[1;31mView Jupyter <a href='command:jupyter.viewOutput'>log</a> for further details."
     ]
    }
   ],
   "source": [
    "import torch\n",
    "import torch.nn as nn\n",
    "import torch.nn.functional as F\n",
    "import torchvision\n",
    "from torchvision import transforms\n",
    "from torchvision.utils import save_image\n",
    "from torch.optim.lr_scheduler import StepLR\n",
    "import argparse\n",
    "import copy"
   ]
  },
  {
   "cell_type": "code",
   "execution_count": null,
   "metadata": {},
   "outputs": [
    {
     "ename": "",
     "evalue": "",
     "output_type": "error",
     "traceback": [
      "\u001b[1;31mFailed to start the Kernel. \n",
      "\u001b[1;31mUnicodeDecodeError: 'charmap' codec can't decode byte 0x81 in position 1400: character maps to <undefined>. \n",
      "\u001b[1;31mView Jupyter <a href='command:jupyter.viewOutput'>log</a> for further details."
     ]
    }
   ],
   "source": [
    "device = torch.device(\"cuda\" if torch.cuda.is_available() else \"cpu\")\n",
    "\n",
    "# Dataset\n",
    "transform_train = transforms.Compose([\n",
    "    transforms.RandomCrop(32, padding=4),\n",
    "    transforms.RandomHorizontalFlip(),  \n",
    "    transforms.ToTensor(),\n",
    "    transforms.Normalize((0.4914, 0.4822, 0.4465), (0.2023, 0.1994, 0.2010)),\n",
    "])\n",
    "transform_test = transforms.Compose([\n",
    "    transforms.ToTensor(),\n",
    "    transforms.Normalize((0.4914, 0.4822, 0.4465), (0.2023, 0.1994, 0.2010)),\n",
    "])\n",
    "trainset = torchvision.datasets.CIFAR10(root='./CIFAR10', train=True, download=True, transform=transform_train)\n",
    "testset = torchvision.datasets.CIFAR10(root='./CIFAR10', train=False, download=True, transform=transform_test)\n",
    "test_loader_this  = torch.utils.data.DataLoader(testset, batch_size=1000, shuffle=False, num_workers=2)\n",
    "\n",
    "\n",
    "def seed_torch(seed=0):\n",
    "    torch.manual_seed(seed)\n",
    "    torch.cuda.manual_seed(seed)\n",
    "    torch.cuda.manual_seed_all(seed)\n",
    "    torch.backends.cudnn.benchmark = False\n",
    "    torch.backends.cudnn.deterministic = True"
   ]
  },
  {
   "cell_type": "code",
   "execution_count": null,
   "metadata": {},
   "outputs": [
    {
     "ename": "",
     "evalue": "",
     "output_type": "error",
     "traceback": [
      "\u001b[1;31mFailed to start the Kernel. \n",
      "\u001b[1;31mUnicodeDecodeError: 'charmap' codec can't decode byte 0x81 in position 1400: character maps to <undefined>. \n",
      "\u001b[1;31mView Jupyter <a href='command:jupyter.viewOutput'>log</a> for further details."
     ]
    }
   ],
   "source": [
    "class gamma_layer(nn.Module):\n",
    "\n",
    "    def __init__(self, input_channel, output_channel):\n",
    "        super(gamma_layer, self).__init__()\n",
    "        self.H = nn.Parameter(torch.ones(output_channel, input_channel))\n",
    "        self.b = nn.Parameter(torch.ones(output_channel))\n",
    "        self.H.data.normal_(0, 0.1)\n",
    "        self.b.data.normal_(0, 0.001)\n",
    "\n",
    "    def forward(self, x):\n",
    "        H = torch.abs(self.H)\n",
    "        x = F.linear(x,H)\n",
    "        return torch.tanh(x)"
   ]
  },
  {
   "cell_type": "code",
   "execution_count": null,
   "metadata": {},
   "outputs": [
    {
     "ename": "",
     "evalue": "",
     "output_type": "error",
     "traceback": [
      "\u001b[1;31mFailed to start the Kernel. \n",
      "\u001b[1;31mUnicodeDecodeError: 'charmap' codec can't decode byte 0x81 in position 1400: character maps to <undefined>. \n",
      "\u001b[1;31mView Jupyter <a href='command:jupyter.viewOutput'>log</a> for further details."
     ]
    }
   ],
   "source": [
    "intermediate_dim = 64\n",
    "threshold = 0.0001\n",
    "beta = 0.001\n",
    "test_batch_size=1000\n",
    "channel_noise_arg = 0.5\n",
    "batch_size = 128\n",
    "epochs = 10\n",
    "lr = 0.001\n",
    "gamma = 0.5\n",
    "weights = 'MNIST_model_dim:64_beta:0.001_accuracy:85.7180_model.pth'\n",
    "decay_step = 60"
   ]
  },
  {
   "cell_type": "code",
   "execution_count": null,
   "metadata": {},
   "outputs": [
    {
     "ename": "",
     "evalue": "",
     "output_type": "error",
     "traceback": [
      "\u001b[1;31mFailed to start the Kernel. \n",
      "\u001b[1;31mUnicodeDecodeError: 'charmap' codec can't decode byte 0x81 in position 1400: character maps to <undefined>. \n",
      "\u001b[1;31mView Jupyter <a href='command:jupyter.viewOutput'>log</a> for further details."
     ]
    }
   ],
   "source": [
    "class gamma_function(nn.Module):\n",
    "\n",
    "    def __init__(self):\n",
    "        super(gamma_function, self).__init__()\n",
    "        self.f1 = gamma_layer(1,16)\n",
    "        self.f2 = gamma_layer(16,16)\n",
    "        self.f3 = gamma_layer(16,16)\n",
    "        self.f4 = gamma_layer(16,intermediate_dim)\n",
    "        \n",
    "    def forward(self, x):\n",
    "        x = self.f1(x)\n",
    "        x = self.f2(x)\n",
    "        x = self.f3(x)\n",
    "        x = self.f4(x)\n",
    "        return x"
   ]
  },
  {
   "cell_type": "code",
   "execution_count": null,
   "metadata": {},
   "outputs": [
    {
     "ename": "",
     "evalue": "",
     "output_type": "error",
     "traceback": [
      "\u001b[1;31mFailed to start the Kernel. \n",
      "\u001b[1;31mUnicodeDecodeError: 'charmap' codec can't decode byte 0x81 in position 1400: character maps to <undefined>. \n",
      "\u001b[1;31mView Jupyter <a href='command:jupyter.viewOutput'>log</a> for further details."
     ]
    }
   ],
   "source": [
    "class Flatten(nn.Module):\n",
    "    def forward(self, x): return x.view(x.size(0), x.size(1))\n",
    "\n",
    "class Mul(nn.Module):\n",
    "    def __init__(self, weight):\n",
    "        super().__init__()\n",
    "        self.weight = weight\n",
    "    def __call__(self, x): \n",
    "        return x*self.weight\n",
    "\n",
    "class Net(nn.Module):\n",
    "    def __init__(self):\n",
    "        super().__init__()\n",
    "\n",
    "        self.hidden_channel = intermediate_dim\n",
    "\n",
    "        self.prep = nn.Sequential(\n",
    "                    nn.Conv2d(3,64,kernel_size = 3,stride = 1, padding = 1, bias = False),\n",
    "                    nn.BatchNorm2d(64),\n",
    "                    nn.ReLU()\n",
    "                    )\n",
    "        self.layer1 = nn.Sequential(\n",
    "                    nn.Conv2d(64,128,kernel_size = 3,stride = 1, padding = 1, bias = False),\n",
    "                    nn.BatchNorm2d(128),\n",
    "                    nn.ReLU(),\n",
    "                    nn.MaxPool2d(kernel_size = 2, stride = 2, padding = 0, dilation = 1, ceil_mode = False)\n",
    "                    )\n",
    "        self.layer1_res = nn.Sequential(\n",
    "                    nn.Conv2d(128,128,kernel_size = 3,stride = 1, padding = 1, bias = False),\n",
    "                    nn.BatchNorm2d(128),\n",
    "                    nn.ReLU(),\n",
    "                    nn.Conv2d(128,128,kernel_size = 3,stride = 1, padding = 1, bias = False),\n",
    "                    nn.BatchNorm2d(128),\n",
    "                    nn.ReLU()\n",
    "                    )\n",
    "        self.layer2 = nn.Sequential(\n",
    "                    nn.Conv2d(128,256,kernel_size = 3,stride = 1, padding = 1, bias = False),\n",
    "                    nn.BatchNorm2d(256),\n",
    "                    nn.ReLU(),\n",
    "                    nn.MaxPool2d(kernel_size = 2, stride = 2)\n",
    "                    )\n",
    "        self.layer3 = nn.Sequential(\n",
    "                    nn.Conv2d(256,512,kernel_size = 3,stride = 1, padding = 1, bias = False),\n",
    "                    nn.BatchNorm2d(512),\n",
    "                    nn.ReLU(),\n",
    "                    nn.MaxPool2d(kernel_size = 2, stride = 2, padding = 0, dilation = 1, ceil_mode = False)\n",
    "                    )\n",
    "        self.layer3_res = nn.Sequential(\n",
    "                    nn.Conv2d(512,512,kernel_size = 3,stride = 1, padding = 1, bias = False),\n",
    "                    nn.BatchNorm2d(512),\n",
    "                    nn.ReLU(),\n",
    "                    nn.Conv2d(512,512,kernel_size = 3,stride = 1, padding = 1, bias = False),\n",
    "                    nn.BatchNorm2d(512),\n",
    "                    nn.ReLU()\n",
    "                    )\n",
    "\n",
    "        self.classifier1 = nn.Sequential(\n",
    "                    nn.MaxPool2d(kernel_size = 4, stride = 4, padding = 0, dilation = 1, ceil_mode = False),\n",
    "                    Flatten()\n",
    "                    )\n",
    "        self.classifier2 = nn.Sequential(\n",
    "                    nn.Linear(512,10,bias = False),\n",
    "                    Mul(0.125)\n",
    "                    )\n",
    "        \n",
    "        self.encoder1 = nn.Sequential(\n",
    "                        nn.Conv2d(512,4,kernel_size = 3,stride = 1, padding = 1, bias = False),\n",
    "                        nn.BatchNorm2d(4),\n",
    "                        nn.ReLU()\n",
    "                        )\n",
    "        self.encoder2 = nn.Sequential(\n",
    "                        nn.Linear(64,64),\n",
    "                        nn.Sigmoid()\n",
    "                        )\n",
    "\n",
    "        self.encoder3_weight = nn.Parameter(torch.Tensor(self.hidden_channel, 64))\n",
    "        self.encoder3_bias = nn.Parameter(torch.Tensor(self.hidden_channel))\n",
    "        self.encoder3_weight.data.normal_(0, 0.5)\n",
    "        self.encoder3_bias.data.normal_(0, 0.1)\n",
    "\n",
    "        self.decoder1 = nn.Linear(self.hidden_channel,64)\n",
    "        self.decoder1_2 = nn.Sequential(\n",
    "                        nn.Linear(64,64),\n",
    "                        nn.ReLU()\n",
    "                        )\n",
    "        self.decoder1_2_2 = nn.Sequential(\n",
    "                        nn.Linear(1,16),\n",
    "                        nn.ReLU(),\n",
    "                        nn.Linear(16,16),\n",
    "                        nn.ReLU(),\n",
    "                        nn.Linear(16,16),\n",
    "                        nn.ReLU()\n",
    "                        )\n",
    "        self.decoder1_3 = nn.Sequential(\n",
    "                        nn.Linear(64+16,64),\n",
    "                        nn.ReLU()\n",
    "                        )\n",
    "        self.decoder2 = nn.Sequential(\n",
    "                        nn.Conv2d(4,512,kernel_size = 3,stride = 1, padding = 1, bias = False),\n",
    "                        nn.BatchNorm2d(512),\n",
    "                        nn.ReLU()\n",
    "                        )\n",
    "\n",
    "        self.Tanh = nn.Tanh()\n",
    "        self.gamma_mu = gamma_function().to(device)\n",
    "        self.upper_tri_matrix = torch.triu(torch.ones((intermediate_dim,intermediate_dim))).to(device)\n",
    "\n",
    "    def forward(self, x, epoch, noise = 0.1):\n",
    "\n",
    "        x = self.prep(x)\n",
    "        x = self.layer1(x)\n",
    "        res = self.layer1_res(x)\n",
    "        x = res + x\n",
    "        x = self.layer2(x)\n",
    "        x = self.layer3(x)\n",
    "        x = self.encoder1(x)\n",
    "        x = torch.reshape(x,(x.size()[0],4*4*4))\n",
    "\n",
    "        # Dynamic Channel Conditions\n",
    "        if self.training:\n",
    "            channel_noise = torch.rand(1)*0.27 + 0.05\n",
    "        else:\n",
    "            channel_noise = torch.FloatTensor([1]) * noise\n",
    "        channel_noise = channel_noise.to(device)\n",
    "\n",
    "        x = self.encoder2(x)\n",
    "        x_norm2 = torch.norm(x,dim=1)\n",
    "        x = 64 * (x.permute(1,0)/(x_norm2+1e-6)).permute(1,0)\n",
    "        weight3 = F.tanh(self.encoder3_weight)\n",
    "        bias3 = F.tanh(self.encoder3_bias)\n",
    "        weight3 = torch.clamp(torch.abs(weight3),min = 1e-3) * torch.sign(weight3.detach())\n",
    "        bias3 = torch.clamp(torch.abs(bias3),min = 1e-3) * torch.sign(bias3.detach())\n",
    "        l2_norm_squared = torch.sum(weight3.pow(2),dim = 1) + bias3.pow(2)\n",
    "        l2_norm = l2_norm_squared.pow(0.5)\n",
    "        weight3 = (weight3.permute(1,0) / (l2_norm+1e-6)).permute(1,0)\n",
    "        bias3 = bias3 / (l2_norm+1e-6)\n",
    "        x = F.linear(x, weight3, bias3)\n",
    "\n",
    "        mu = self.gamma_mu(channel_noise)\n",
    "        mu = F.linear(mu, self.upper_tri_matrix)\n",
    "        mu = torch.clamp(mu,min = 1e-4)\n",
    "        encoded_feature = torch.tanh(x * mu)\n",
    "        encoded_feature = torch.clamp(torch.abs(encoded_feature),min = 1e-2) * torch.sign(encoded_feature.detach())\n",
    "        \n",
    "        # KL divergence\n",
    "        KL = self.KL_log_uniform(channel_noise,torch.abs(encoded_feature))\n",
    "\n",
    "        # Gaussian channel noise\n",
    "        x = encoded_feature + torch.randn_like(encoded_feature) * channel_noise\n",
    "\n",
    "        if self.training:\n",
    "            if epoch > 60:\n",
    "                x = x * self.get_mask(mu,threshold = threshold)\n",
    "        else:\n",
    "            x = x * self.get_mask(mu,threshold = threshold)\n",
    "\n",
    "        x = F.relu(self.decoder1(x))\n",
    "        x = self.decoder1_2(x)\n",
    "        noise_feature = self.decoder1_2_2(channel_noise)\n",
    "        noise_feature = noise_feature.expand(x.size()[0],16)\n",
    "        x = torch.cat((x,noise_feature),dim=1)\n",
    "        x = self.decoder1_3(x)\n",
    "        x = torch.reshape(x,(-1,4,4,4))\n",
    "        decoded_feature = self.decoder2(x)\n",
    "        x = self.layer3_res(decoded_feature)\n",
    "        x = x + decoded_feature\n",
    "        x = self.classifier1(x)\n",
    "        output = self.classifier2(x)\n",
    "        \n",
    "        return output, KL * 0.1 / channel_noise\n",
    "\n",
    "    def KL_log_uniform(self,channel_noise,encoded_feature):\n",
    "\n",
    "        alpha = (channel_noise/encoded_feature)\n",
    "        k1 = 0.63576\n",
    "        k2 = 1.8732\n",
    "        k3 = 1.48695\n",
    "        batch_size = alpha.size(0)\n",
    "        KL_term = k1 * F.sigmoid(k2 + k3 * 2 * torch.log(alpha)) - 0.5 * F.softplus(-2 * torch.log(alpha)) - k1\n",
    "        return - torch.sum(KL_term) / batch_size\n",
    "\n",
    "    def get_mask(self, mu, threshold=threshold):\n",
    "        alpha = mu.detach()\n",
    "        hard_mask = (alpha > threshold).float()\n",
    "        return hard_mask\n",
    "\n",
    "    def get_mask_inference(self, channel_noise, threshold = threshold):\n",
    "        mu = self.gamma_mu(channel_noise)\n",
    "        alpha = F.linear(mu, self.upper_tri_matrix)\n",
    "        hard_mask = (alpha > threshold).float()\n",
    "        return hard_mask, alpha"
   ]
  },
  {
   "cell_type": "code",
   "execution_count": null,
   "metadata": {},
   "outputs": [
    {
     "ename": "",
     "evalue": "",
     "output_type": "error",
     "traceback": [
      "\u001b[1;31mFailed to start the Kernel. \n",
      "\u001b[1;31mUnicodeDecodeError: 'charmap' codec can't decode byte 0x81 in position 1400: character maps to <undefined>. \n",
      "\u001b[1;31mView Jupyter <a href='command:jupyter.viewOutput'>log</a> for further details."
     ]
    }
   ],
   "source": [
    "model = Net().to(device)\n",
    "optimizer = torch.optim.Adam(model.parameters(), lr=lr,  weight_decay=1e-4)\n",
    "scheduler = StepLR(optimizer, step_size=decay_step, gamma=gamma)"
   ]
  },
  {
   "cell_type": "code",
   "execution_count": null,
   "metadata": {},
   "outputs": [
    {
     "ename": "",
     "evalue": "",
     "output_type": "error",
     "traceback": [
      "\u001b[1;31mFailed to start the Kernel. \n",
      "\u001b[1;31mUnicodeDecodeError: 'charmap' codec can't decode byte 0x81 in position 1400: character maps to <undefined>. \n",
      "\u001b[1;31mView Jupyter <a href='command:jupyter.viewOutput'>log</a> for further details."
     ]
    }
   ],
   "source": [
    "def train(model=model):\n",
    "    \n",
    "    test_acc = 0\n",
    "    pruned_dim = 0\n",
    "    saved_model = {}\n",
    "\n",
    "    for epoch in range(epochs):\n",
    "\n",
    "        print('\\nepoch:{}'.format(epoch))\n",
    "        if (epoch)%10 == 0:\n",
    "            data_loader = torch.utils.data.DataLoader(trainset,batch_size=batch_size, shuffle=True,\n",
    "        num_workers=4, pin_memory=True)\n",
    "\n",
    "        for i, (x, y) in enumerate(data_loader):\n",
    "            x = x.to(device)\n",
    "            y = y.to(device)\n",
    "            model.train()\n",
    "            output, KL = model(x,epoch)\n",
    "            criterion = nn.CrossEntropyLoss()\n",
    "            criterion = criterion.to(device)\n",
    "            loss1 = criterion(output, y)\n",
    "            if epoch <= 20:\n",
    "                loss = loss1\n",
    "            else:\n",
    "                anneal_ratio = min(1,(epoch - 20)/20)\n",
    "                loss = loss1 + beta * KL * anneal_ratio\n",
    "\n",
    "            if torch.isnan(loss):\n",
    "                raise Exception(\"NaN value\")\n",
    "\n",
    "            optimizer.zero_grad()\n",
    "            loss.backward()\n",
    "            optimizer.step()\n",
    "        scheduler.step()\n",
    "\n",
    "        acc, pruned_number = test(epoch,noise = 0.1)\n",
    "\n",
    "        print('Test Accuracy:',acc,'Pruned dim:',pruned_number,'Activated dim:', intermediate_dim - pruned_number)\n",
    "\n",
    "        if epoch > 7:\n",
    "            if (acc > test_acc and pruned_number == pruned_dim) or pruned_number > pruned_dim:\n",
    "                test_acc = acc\n",
    "                pruned_dim = pruned_number\n",
    "                saved_model = copy.deepcopy(model.state_dict())\n",
    "                print('Best ckpt:',test_acc,'pruned_number:',pruned_dim,'beta:',beta)\n",
    "                torch.save({'model': saved_model}, 'CIFAR-model1.pth')\n",
    "    print('Best Accuracy:',test_acc,'Intermediate Dim:',intermediate_dim,'Beta:',beta)\n",
    "    torch.save({'model': saved_model}, 'CIFAR_model1.pth')"
   ]
  },
  {
   "cell_type": "code",
   "execution_count": null,
   "metadata": {},
   "outputs": [
    {
     "ename": "",
     "evalue": "",
     "output_type": "error",
     "traceback": [
      "\u001b[1;31mFailed to start the Kernel. \n",
      "\u001b[1;31mUnicodeDecodeError: 'charmap' codec can't decode byte 0x81 in position 1400: character maps to <undefined>. \n",
      "\u001b[1;31mView Jupyter <a href='command:jupyter.viewOutput'>log</a> for further details."
     ]
    }
   ],
   "source": [
    "def test(epoch,noise=0.1):\n",
    "    with torch.no_grad():\n",
    "        model.eval()\n",
    "        correct = 0\n",
    "        total = 0\n",
    "        for i, (images, labels) in enumerate(test_loader_this): \n",
    "            images = images.to(device)\n",
    "            labels = labels.to(device)\n",
    "            outputs,_= model(images,epoch,noise)\n",
    "            labels_relize = labels.view(-1,1)\n",
    "            _, predicted = torch.max(outputs.data, 1)\n",
    "            total += labels.size(0)\n",
    "            correct += (predicted == labels).sum().item()\n",
    "        hard_mask, mu = model.get_mask_inference(torch.FloatTensor([noise]).to(device))\n",
    "        index = torch.nonzero(torch.lt(hard_mask,0.5)).squeeze(1)\n",
    "        pruned_number = index.size()[0]\n",
    "        return 100 * correct / total, pruned_number"
   ]
  },
  {
   "cell_type": "code",
   "execution_count": null,
   "metadata": {},
   "outputs": [
    {
     "ename": "",
     "evalue": "",
     "output_type": "error",
     "traceback": [
      "\u001b[1;31mFailed to start the Kernel. \n",
      "\u001b[1;31mUnicodeDecodeError: 'charmap' codec can't decode byte 0x81 in position 1400: character maps to <undefined>. \n",
      "\u001b[1;31mView Jupyter <a href='command:jupyter.viewOutput'>log</a> for further details."
     ]
    }
   ],
   "source": [
    "train()"
   ]
  }
 ],
 "metadata": {
  "kernelspec": {
   "display_name": "Python 3 (ipykernel)",
   "language": "python",
   "name": "python3"
  },
  "language_info": {
   "codemirror_mode": {
    "name": "ipython",
    "version": 3
   },
   "file_extension": ".py",
   "mimetype": "text/x-python",
   "name": "python",
   "nbconvert_exporter": "python",
   "pygments_lexer": "ipython3",
   "version": "3.11.8"
  }
 },
 "nbformat": 4,
 "nbformat_minor": 2
}
